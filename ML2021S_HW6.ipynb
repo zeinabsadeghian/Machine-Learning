{
 "cells": [
  {
   "cell_type": "markdown",
   "metadata": {
    "deletable": false,
    "editable": false,
    "heading_collapsed": true,
    "run_control": {
     "frozen": true
    }
   },
   "source": [
    "# CE-40717: Machine Learning"
   ]
  },
  {
   "cell_type": "markdown",
   "metadata": {
    "deletable": false,
    "editable": false,
    "heading_collapsed": true,
    "hidden": true,
    "run_control": {
     "frozen": true
    }
   },
   "source": [
    "## HW6-Gradient Boosting"
   ]
  },
  {
   "cell_type": "markdown",
   "metadata": {
    "deletable": false,
    "editable": false,
    "heading_collapsed": true,
    "hidden": true,
    "id": "2vqwJ6O-qQyT",
    "run_control": {
     "frozen": true
    }
   },
   "source": [
    "### Installation:\n",
    "You can use [sklearn](https://scikit-learn.org) and [xgboost](https://xgboost.readthedocs.io) packages:\n",
    "```python\n",
    "!pip install -U scikit-learn\n",
    "!pip install xgboost\n",
    "```"
   ]
  },
  {
   "cell_type": "code",
   "execution_count": 2,
   "metadata": {
    "hidden": true
   },
   "outputs": [
    {
     "name": "stdout",
     "output_type": "stream",
     "text": [
      "Collecting xgboost\n",
      "  Downloading xgboost-1.4.2-py3-none-win_amd64.whl (97.8 MB)\n",
      "Requirement already satisfied: scipy in c:\\users\\user\\anaconda3\\lib\\site-packages (from xgboost) (1.5.2)\n",
      "Requirement already satisfied: numpy in c:\\users\\user\\anaconda3\\lib\\site-packages (from xgboost) (1.19.2)\n",
      "Installing collected packages: xgboost\n",
      "Successfully installed xgboost-1.4.2\n"
     ]
    }
   ],
   "source": [
    "!pip install xgboost"
   ]
  },
  {
   "cell_type": "code",
   "execution_count": 1,
   "metadata": {},
   "outputs": [
    {
     "name": "stdout",
     "output_type": "stream",
     "text": [
      "Requirement already up-to-date: scikit-learn in c:\\users\\user\\anaconda3\\lib\\site-packages (0.24.2)\n",
      "Requirement already satisfied, skipping upgrade: joblib>=0.11 in c:\\users\\user\\anaconda3\\lib\\site-packages (from scikit-learn) (0.17.0)\n",
      "Requirement already satisfied, skipping upgrade: threadpoolctl>=2.0.0 in c:\\users\\user\\anaconda3\\lib\\site-packages (from scikit-learn) (2.1.0)\n",
      "Requirement already satisfied, skipping upgrade: scipy>=0.19.1 in c:\\users\\user\\anaconda3\\lib\\site-packages (from scikit-learn) (1.5.2)\n",
      "Requirement already satisfied, skipping upgrade: numpy>=1.13.3 in c:\\users\\user\\anaconda3\\lib\\site-packages (from scikit-learn) (1.19.2)\n"
     ]
    }
   ],
   "source": [
    "!pip install -U scikit-learn"
   ]
  },
  {
   "cell_type": "code",
   "execution_count": 1,
   "metadata": {
    "hidden": true
   },
   "outputs": [],
   "source": [
    "import numpy as np\n",
    "import matplotlib.pyplot as plt\n",
    "import xgboost as xgb\n",
    "\n",
    "from time import time\n",
    "from sklearn import datasets\n",
    "from sklearn.model_selection import train_test_split\n",
    "from sklearn.ensemble import GradientBoostingClassifier\n",
    "from sklearn.metrics import precision_score, recall_score, f1_score, plot_confusion_matrix, confusion_matrix"
   ]
  },
  {
   "cell_type": "markdown",
   "metadata": {
    "deletable": false,
    "editable": false,
    "heading_collapsed": true,
    "hidden": true,
    "run_control": {
     "frozen": true
    }
   },
   "source": [
    "### Load & Prepare Dataset:"
   ]
  },
  {
   "cell_type": "code",
   "execution_count": 2,
   "metadata": {
    "hidden": true
   },
   "outputs": [
    {
     "name": "stdout",
     "output_type": "stream",
     "text": [
      "15 ['setosa' 'versicolor' 'virginica']\n"
     ]
    }
   ],
   "source": [
    "np.random.seed(seed=42)\n",
    "\n",
    "# load dataset:\n",
    "iris = datasets.load_iris()\n",
    "X = iris.data\n",
    "y = iris.target\n",
    "\n",
    "\n",
    "# preprocess(if you need):\n",
    "\n",
    "\n",
    "# split dataset to train set and validation set:\n",
    "x_train, x_val, y_train, y_val = train_test_split(X, y, test_size=0.1)\n",
    "\n",
    "data_train = xgb.DMatrix(data=x_train, label=y_train)\n",
    "data_val = xgb.DMatrix(data=x_val, label=y_val)\n",
    "\n",
    "n_val = x_val.shape[0]\n",
    "class_names = iris.target_names\n",
    "print(n_val, class_names)"
   ]
  },
  {
   "cell_type": "code",
   "execution_count": 59,
   "metadata": {},
   "outputs": [
    {
     "data": {
      "text/plain": [
       "dtype('float64')"
      ]
     },
     "execution_count": 59,
     "metadata": {},
     "output_type": "execute_result"
    }
   ],
   "source": [
    "x_train[0].dtype"
   ]
  },
  {
   "cell_type": "markdown",
   "metadata": {
    "deletable": false,
    "editable": false,
    "heading_collapsed": true,
    "hidden": true,
    "run_control": {
     "frozen": true
    }
   },
   "source": [
    "### Set Hyperparameter for Both Gradine Boost & XGboost:"
   ]
  },
  {
   "cell_type": "code",
   "execution_count": 3,
   "metadata": {
    "hidden": true
   },
   "outputs": [],
   "source": [
    "# Gradine Boost:\n",
    "GB_param = dict(n_estimators=5,\n",
    "                learning_rate=0.01,\n",
    "                max_depth=3,\n",
    "                random_state=0)\n",
    "\n",
    "# XGboost:\n",
    "XGboost_param = {\"eta\": 0.3,\n",
    "                 \"silent\": True,\n",
    "                 \"objective\": \"multi:softprob\",\n",
    "                 \"num_class\": 3,\n",
    "                 \"max_depth\": 3}\n",
    "\n",
    "num_round = 5"
   ]
  },
  {
   "cell_type": "markdown",
   "metadata": {
    "deletable": false,
    "editable": false,
    "heading_collapsed": true,
    "hidden": true,
    "run_control": {
     "frozen": true
    }
   },
   "source": [
    "### Define Classifiers:"
   ]
  },
  {
   "cell_type": "code",
   "execution_count": 4,
   "metadata": {
    "hidden": true
   },
   "outputs": [
    {
     "name": "stderr",
     "output_type": "stream",
     "text": [
      "C:\\Users\\USER\\anaconda3\\lib\\site-packages\\xgboost\\core.py:430: FutureWarning: Pass `objective` as keyword args.  Passing these as positional arguments will be considered as error in future releases.\n",
      "  warnings.warn(\n"
     ]
    }
   ],
   "source": [
    "# define classifier for gradient boost:\n",
    "GB_clf = GradientBoostingClassifier(n_estimators=5,\n",
    "                learning_rate=0.01,\n",
    "                max_depth=3,\n",
    "                random_state=0)\n",
    "\n",
    "# define classifier for XGboost:\n",
    "XGboost_clf = xgb.XGBClassifier(XGboost_param)"
   ]
  },
  {
   "cell_type": "markdown",
   "metadata": {
    "deletable": false,
    "editable": false,
    "heading_collapsed": true,
    "hidden": true,
    "run_control": {
     "frozen": true
    }
   },
   "source": [
    "### Train Both Classifiers:"
   ]
  },
  {
   "cell_type": "code",
   "execution_count": 5,
   "metadata": {
    "hidden": true
   },
   "outputs": [
    {
     "name": "stdout",
     "output_type": "stream",
     "text": [
      "GB_train_time: 27.570247650146484 millisecond\n"
     ]
    },
    {
     "name": "stderr",
     "output_type": "stream",
     "text": [
      "C:\\Users\\USER\\anaconda3\\lib\\site-packages\\xgboost\\sklearn.py:1146: UserWarning: The use of label encoder in XGBClassifier is deprecated and will be removed in a future release. To remove this warning, do the following: 1) Pass option use_label_encoder=False when constructing XGBClassifier object; and 2) Encode your labels (y) as integers starting with 0, i.e. 0, 1, 2, ..., [num_class - 1].\n",
      "  warnings.warn(label_encoder_deprecation_msg, UserWarning)\n"
     ]
    },
    {
     "name": "stdout",
     "output_type": "stream",
     "text": [
      "[22:00:49] WARNING: C:/Users/Administrator/workspace/xgboost-win64_release_1.4.0/src/learner.cc:1095: Starting in XGBoost 1.3.0, the default evaluation metric used with the objective 'multi:softprob' was changed from 'merror' to 'mlogloss'. Explicitly set eval_metric if you'd like to restore the old behavior.\n",
      "XGboost_train_time: 876.1491775512695 millisecond\n"
     ]
    }
   ],
   "source": [
    "# train  gradient boost:\n",
    "tic = time()\n",
    "trained_GB = GB_clf.fit(x_train,  y_train)\n",
    "toc = time()\n",
    "\n",
    "# calculate training time for GB:\n",
    "GB_train_time = toc - tic\n",
    "print(f\"GB_train_time: {1000.0*GB_train_time} millisecond\")\n",
    "\n",
    "\n",
    "# train XGboost:\n",
    "tic = time()\n",
    "trained_XGboost = XGboost_clf.fit(x_train,  y_train)\n",
    "toc = time()\n",
    "\n",
    "# calculate training time for XGboost:\n",
    "XGboost_train_time = toc - tic\n",
    "print(f\"XGboost_train_time: {1000.0*XGboost_train_time} millisecond\")"
   ]
  },
  {
   "cell_type": "markdown",
   "metadata": {
    "deletable": false,
    "editable": false,
    "heading_collapsed": true,
    "hidden": true,
    "run_control": {
     "frozen": true
    }
   },
   "source": [
    "### Prediction on Validation Set:"
   ]
  },
  {
   "cell_type": "code",
   "execution_count": 6,
   "metadata": {
    "hidden": true
   },
   "outputs": [
    {
     "name": "stdout",
     "output_type": "stream",
     "text": [
      "GB_val_time_per_data: 0.7333755493164062 millisecond\n",
      "XGboost_val_time_per_data: 6.197929382324219 millisecond\n"
     ]
    }
   ],
   "source": [
    "# prediction for gradient boost:\n",
    "tic = time()\n",
    "y_pred_GB = GB_clf.predict(x_val)\n",
    "toc = time()\n",
    "\n",
    "# calculate validation time per data for GB:\n",
    "GB_val_time_per_data = toc - tic\n",
    "print(f\"GB_val_time_per_data: {1000.0*GB_val_time_per_data} millisecond\")\n",
    "\n",
    "\n",
    "# prediction for XGboost:\n",
    "tic = time()\n",
    "y_pred_XGboost = XGboost_clf.predict(x_val)\n",
    "toc = time()\n",
    "# y_pred_XGboost = XGboost_clf.predict_proba(x_val)\n",
    "\n",
    "# calculate validation time per data for XGboost:\n",
    "XGboost_val_time_per_data = toc - tic\n",
    "print(f\"XGboost_val_time_per_data: {1000.0*XGboost_val_time_per_data} millisecond\")"
   ]
  },
  {
   "cell_type": "code",
   "execution_count": 7,
   "metadata": {},
   "outputs": [],
   "source": [
    "y_pred_XGboost_proba = XGboost_clf.predict_proba(x_val)"
   ]
  },
  {
   "cell_type": "markdown",
   "metadata": {
    "deletable": false,
    "editable": false,
    "heading_collapsed": true,
    "hidden": true,
    "run_control": {
     "frozen": true
    }
   },
   "source": [
    "### Evaluation (precision - recall - F1 score - confusion matrix):"
   ]
  },
  {
   "cell_type": "markdown",
   "metadata": {
    "deletable": false,
    "editable": false,
    "heading_collapsed": true,
    "hidden": true,
    "run_control": {
     "frozen": true
    }
   },
   "source": [
    "#### for Gradient Boost:"
   ]
  },
  {
   "cell_type": "code",
   "execution_count": 8,
   "metadata": {
    "hidden": true
   },
   "outputs": [
    {
     "name": "stdout",
     "output_type": "stream",
     "text": [
      "precision_GB: 1.0\n"
     ]
    }
   ],
   "source": [
    "# calculate precision\n",
    "precision_GB = precision_score(y_pred_GB, y_val, average='weighted')\n",
    "\n",
    "print(f\"precision_GB: {precision_GB}\")"
   ]
  },
  {
   "cell_type": "code",
   "execution_count": 20,
   "metadata": {
    "hidden": true
   },
   "outputs": [
    {
     "name": "stdout",
     "output_type": "stream",
     "text": [
      "recall_GB: 1.0\n"
     ]
    }
   ],
   "source": [
    "# calculate recall\n",
    "recall_GB = recall_score(y_pred_GB, y_val, average='weighted')\n",
    "\n",
    "print(f\"recall_GB: {recall_GB}\")"
   ]
  },
  {
   "cell_type": "code",
   "execution_count": 21,
   "metadata": {
    "hidden": true
   },
   "outputs": [
    {
     "name": "stdout",
     "output_type": "stream",
     "text": [
      "F1_GB: 1.0\n"
     ]
    }
   ],
   "source": [
    "# calculate F1 score\n",
    "f1_GB = f1_score(y_pred_GB, y_val, average='weighted')\n",
    "\n",
    "print(f\"F1_GB: {f1_GB}\")"
   ]
  },
  {
   "cell_type": "code",
   "execution_count": 9,
   "metadata": {
    "hidden": true
   },
   "outputs": [
    {
     "data": {
      "image/png": "[encoded data removed]",
      "text/plain": [
       "<Figure size 432x288 with 2 Axes>"
      ]
     },
     "metadata": {
      "needs_background": "light"
     },
     "output_type": "display_data"
    },
    {
     "data": {
      "image/png": "[encoded data removed]",
      "text/plain": [
       "<Figure size 432x288 with 2 Axes>"
      ]
     },
     "metadata": {
      "needs_background": "light"
     },
     "output_type": "display_data"
    }
   ],
   "source": [
    "# calculate confusion matrix\n",
    "titles_options = [(\"Confusion matrix, without normalization\", None),\n",
    "                  (\"Normalized confusion matrix\", \"true\")]\n",
    "for title, normalize in titles_options:\n",
    "    disp = plot_confusion_matrix(GB_clf, x_val,y_val, display_labels=class_names, normalize=normalize)\n",
    "    disp.ax_.set_title(title)\n",
    "\n",
    "plt.show()"
   ]
  },
  {
   "cell_type": "markdown",
   "metadata": {
    "deletable": false,
    "editable": false,
    "heading_collapsed": true,
    "hidden": true,
    "run_control": {
     "frozen": true
    }
   },
   "source": [
    "#### for XGboost:"
   ]
  },
  {
   "cell_type": "code",
   "execution_count": 25,
   "metadata": {
    "hidden": true
   },
   "outputs": [
    {
     "name": "stdout",
     "output_type": "stream",
     "text": [
      "precision_XGboost: 1.0\n"
     ]
    }
   ],
   "source": [
    "# calculate precision\n",
    "precision_XGboost = precision_score(y_pred_XGboost, y_val, average='weighted')\n",
    "\n",
    "print(f\"precision_XGboost: {precision_XGboost}\")"
   ]
  },
  {
   "cell_type": "code",
   "execution_count": 28,
   "metadata": {
    "hidden": true
   },
   "outputs": [
    {
     "name": "stdout",
     "output_type": "stream",
     "text": [
      "recall_XGboost: 1.0\n"
     ]
    }
   ],
   "source": [
    "# calculate recall\n",
    "recall_XGboost = recall_score(y_pred_XGboost, y_val, average='weighted')\n",
    "\n",
    "print(f\"recall_XGboost: {recall_XGboost}\")"
   ]
  },
  {
   "cell_type": "code",
   "execution_count": 29,
   "metadata": {
    "hidden": true
   },
   "outputs": [
    {
     "name": "stdout",
     "output_type": "stream",
     "text": [
      "F1_XGboost: 1.0\n"
     ]
    }
   ],
   "source": [
    "# calculate F1 score\n",
    "f1_XGboost = f1_score(y_pred_XGboost, y_val, average='weighted')\n",
    "\n",
    "print(f\"F1_XGboost: {f1_XGboost}\")"
   ]
  },
  {
   "cell_type": "code",
   "execution_count": 32,
   "metadata": {
    "hidden": true
   },
   "outputs": [
    {
     "name": "stdout",
     "output_type": "stream",
     "text": [
      "conf_mat_XGboost: [[6 0 0]\n",
      " [0 6 0]\n",
      " [0 0 3]]\n"
     ]
    }
   ],
   "source": [
    "# calculate confusion matrix\n",
    "cm_XGboost = confusion_matrix(y_pred_XGboost, y_val)\n",
    "\n",
    "print(f\"conf_mat_XGboost: {cm_XGboost}\")"
   ]
  },
  {
   "cell_type": "markdown",
   "metadata": {
    "deletable": false,
    "editable": false,
    "heading_collapsed": true,
    "hidden": true,
    "run_control": {
     "frozen": true
    }
   },
   "source": [
    "### Compare Gradient Boost & XGboost Algorithm According to Evaluation Part Results:"
   ]
  },
  {
   "cell_type": "markdown",
   "metadata": {
    "hidden": true
   },
   "source": [
    "Write your analysis here:"
   ]
  },
  {
   "cell_type": "markdown",
   "metadata": {},
   "source": [
    "XGBoost uses the 2nd order derivative as an approximation and since it uses a more regularized model formalization to control over-fitting, it has better performance. but here the time it took to train XGboost was longer than gradient boost. but they were both good when it comes to evaluating them on validation data. the scores were all 1 n the validation part and they both were good.\n"
   ]
  }
 ],
 "metadata": {
  "colab": {
   "authorship_tag": "ABX9TyNsq3Fus2ZeuFk0OjYV90kk",
   "collapsed_sections": [],
   "name": "ML2021S-HW6-Practical.ipynb",
   "provenance": []
  },
  "kernelspec": {
   "display_name": "Python 3",
   "language": "python",
   "name": "python3"
  },
  "language_info": {
   "codemirror_mode": {
    "name": "ipython",
    "version": 3
   },
   "file_extension": ".py",
   "mimetype": "text/x-python",
   "name": "python",
   "nbconvert_exporter": "python",
   "pygments_lexer": "ipython3",
   "version": "3.8.5"
  },
  "toc": {
   "base_numbering": 1,
   "nav_menu": {},
   "number_sections": true,
   "sideBar": true,
   "skip_h1_title": false,
   "title_cell": "Table of Contents",
   "title_sidebar": "Contents",
   "toc_cell": false,
   "toc_position": {},
   "toc_section_display": true,
   "toc_window_display": false
  },
  "varInspector": {
   "cols": {
    "lenName": 16,
    "lenType": 16,
    "lenVar": 40
   },
   "kernels_config": {
    "python": {
     "delete_cmd_postfix": "",
     "delete_cmd_prefix": "del ",
     "library": "var_list.py",
     "varRefreshCmd": "print(var_dic_list())"
    },
    "r": {
     "delete_cmd_postfix": ") ",
     "delete_cmd_prefix": "rm(",
     "library": "var_list.r",
     "varRefreshCmd": "cat(var_dic_list()) "
    }
   },
   "types_to_exclude": [
    "module",
    "function",
    "builtin_function_or_method",
    "instance",
    "_Feature"
   ],
   "window_display": false
  }
 },
 "nbformat": 4,
 "nbformat_minor": 4
}
