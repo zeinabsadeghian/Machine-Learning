{
 "cells": [
  {
   "cell_type": "markdown",
   "metadata": {
    "deletable": false,
    "editable": false,
    "heading_collapsed": true,
    "id": "7P66a3NStetI",
    "run_control": {
     "frozen": true
    }
   },
   "source": [
    "# CE-40717: Machine Learning"
   ]
  },
  {
   "cell_type": "markdown",
   "metadata": {
    "deletable": false,
    "editable": false,
    "heading_collapsed": true,
    "hidden": true,
    "run_control": {
     "frozen": true
    }
   },
   "source": [
    "## HW4-MultiLayer Perceptron (MLP)"
   ]
  },
  {
   "cell_type": "markdown",
   "metadata": {
    "hidden": true,
    "id": "ZsX3itNwTc8T"
   },
   "source": [
    "The following lines of code will load the [MNIST](http://yann.lecun.com/exdb/mnist/) data and turn them\n",
    "into numpy arrays, you can print their shape if you like.\n",
    "You can also transform the data as you wish, including seperating\n",
    "the training data for cross validation.\n",
    "\n",
    "If you have the data (on google drive or locally) change the root\n",
    "address accordingly, if you don't, set download=True but you might encounter\n",
    "some problems downloading the data."
   ]
  },
  {
   "cell_type": "code",
   "execution_count": 1,
   "metadata": {
    "hidden": true,
    "id": "eRDGolwttJJr"
   },
   "outputs": [],
   "source": [
    "import torchvision.datasets as ds\n",
    "import numpy as np\n",
    "\n",
    "data_train = np.array(ds.MNIST(root=\"./data\", train=True, download=True).data)\n",
    "target_train = np.array(ds.MNIST(root=\"./data\", train=True, download=True).targets)\n",
    "data_test = np.array(ds.MNIST(root=\"./data\", train=False, download=True).data)\n",
    "target_test = np.array(ds.MNIST(root=\"./data\", train=False, download=True).targets)\n",
    "\n",
    "#### Transform the data! ####"
   ]
  },
  {
   "cell_type": "code",
   "execution_count": 2,
   "metadata": {},
   "outputs": [],
   "source": [
    "import torchvision.datasets as ds\n",
    "import numpy as np"
   ]
  },
  {
   "cell_type": "code",
   "execution_count": 10,
   "metadata": {},
   "outputs": [],
   "source": [
    "    def sigmoid(x):    \n",
    "        return 1. / (1. + np.exp(-x))\n",
    "\n",
    "    def softmax(x):\n",
    "        return np.exp(x)/sum(np.exp(x))"
   ]
  },
  {
   "cell_type": "markdown",
   "metadata": {
    "deletable": false,
    "editable": false,
    "heading_collapsed": true,
    "hidden": true,
    "id": "OQ0i1tVuT3bb",
    "run_control": {
     "frozen": true
    }
   },
   "source": [
    "### Part1:\n",
    "Complete the functions of the MLP class to create\n",
    "a MultiLayer Perceptron"
   ]
  },
  {
   "cell_type": "code",
   "execution_count": 21,
   "metadata": {
    "hidden": true,
    "id": "86AdE8SntShx"
   },
   "outputs": [],
   "source": [
    "class MLP:\n",
    "    def __init__(self, in_dimensions, hidden_dimensions, out_dimensions):\n",
    "        self.w1 = np.random.normal(size=(in_dimensions, hidden_dimensions)) / in_dimensions\n",
    "        self.b1 = np.random.normal(size=(1,hidden_dimensions)) / in_dimensions\n",
    "        self.w2 = np.random.normal(size=(hidden_dimensions,out_dimensions)) / in_dimensions\n",
    "        self.b2 = np.random.normal(size=(1,out_dimensions)) / in_dimensions\n",
    "    \n",
    "    def forward(self, x):\n",
    "        # perform a forward pass of the network and return the result\n",
    "        # remember to retain the value of each node (i.e. self.h1_forward)\n",
    "        # in order to use in backpropagation\n",
    "        # Use whatever activation function you wish for the first layer\n",
    "        # and softmax activation for the output layer\n",
    "        #neurons = []\n",
    "        #for nueron in range(self.l):\n",
    "        self.x = x\n",
    "        self.Z_1 = np.dot(x, self.w1) + self.b1\n",
    "        self.A_1 = sigmoid(self.Z_1)\n",
    "        self.Z_2 = np.dot(self.A_1, self.w2) + self.b2\n",
    "        self.A_2 = softmax(self.Z_2)\n",
    "\n",
    "            \n",
    "        return self.A_2\n",
    "\n",
    "    def backward(self, loss, y):\n",
    "        # perform backpropagation on the loss value and compute the gradient \n",
    "        # w.r.t. every element of the network and retain them (i.e. self.w1_backward)\n",
    "        m = self.x.shape[0]\n",
    "        #second layer derivatives\n",
    "        #dA = softmax_back((self.A_2 - y), self.Z_2)\n",
    "        dL_2 = (1./m)*np.matmul(self.A_1.T, self.A_2 - y)\n",
    "        \n",
    "        # ones = np.ones((1, dA.shape[0]))\n",
    "        # db_2 = np.dot(ones, dA)\n",
    "        db_2 = (1./m)*np.sum(self.A_2 - y, axis=0, keepdims=True)\n",
    "    \n",
    "        \n",
    "        #first layer derivatives\n",
    "        #dA = softmax_back((self.A_2 - y), self.Z_2)\n",
    "        dA = np.matmul(self.A_2 - y, self.w2.T) #np.dot((y - yhat) * self.sigmoid_derivative(Xj, self.wjk), self.wjk.T)\n",
    "        dA_1 = self.A_1*(1. - self.A_1)\n",
    "        dA = dA*dA_1 \n",
    "        dL_1 = (1./m)*np.matmul(self.x.T, dA)\n",
    "\n",
    "        db_1 = (1./m)*np.sum(dA, axis=0, keepdims=True)\n",
    "        \n",
    "        return dL_1, dL_2, db_1, db_2\n",
    "\n",
    "    def step(self, lr, lam, grads, m):\n",
    "        # simply update all the weights using the gradinets computed in backward\n",
    "        # and the given learning rate with SGD\n",
    "        # don't forget to use regularization\n",
    "        self.w2 = self.w2 - lr*grads[1] - (lr*lam*self.w2)/m\n",
    "        self.w1 = self.w1 - lr*grads[0] - (lr*lam*self.w1)/m\n",
    "        self.b2 = self.b2 - lr*grads[3] \n",
    "        self.b1 = self.b1 - lr*grads[2] \n",
    "        "
   ]
  },
  {
   "cell_type": "code",
   "execution_count": 37,
   "metadata": {},
   "outputs": [],
   "source": [
    "target = np.zeros((target_train.shape[0], 10, 1))\n",
    "target[np.arange(target_train.size), target_train] = 1"
   ]
  },
  {
   "cell_type": "markdown",
   "metadata": {
    "deletable": false,
    "editable": false,
    "heading_collapsed": true,
    "hidden": true,
    "id": "EeMLiOlMUC2D",
    "run_control": {
     "frozen": true
    }
   },
   "source": [
    "### Part2:\n",
    "Make instances of your network and train them **using l2 regularization and choose the lambda using k-fold cross validation\n",
    "(set the candidate lambda as you wish)**.\n",
    "\n",
    "You may choose the hyperparameters (i.e. num of epochs, learning rate etc.)\n",
    "as you wish. \n",
    "\n",
    "Then train a final model on all the training data with the chosen lambda.\n"
   ]
  },
  {
   "cell_type": "code",
   "execution_count": 17,
   "metadata": {
    "hidden": true,
    "id": "0Ojg9CSL4vei"
   },
   "outputs": [
    {
     "name": "stdout",
     "output_type": "stream",
     "text": [
      "Lambda: 0.001\n",
      "Loss: 1206.6836 Accuracy: 0.6157\n",
      "\n",
      "Lambda: 0.01\n",
      "Loss: 1206.6820 Accuracy: 0.6053\n",
      "\n",
      "Lambda: 0.1\n",
      "Loss: 1206.6849 Accuracy: 0.6241\n",
      "\n",
      "Best lambda is 0.1 with 0.6241 accuracy\n"
     ]
    }
   ],
   "source": [
    "n_epochs = 5 # number of epochs\n",
    "lr = 0.01# learning rate\n",
    "k = 5# number of folds\n",
    "in_dim = 784# MNIST has 28*28 images\n",
    "hidden_dim = 400# number of hidden dimensions for the hidden layer\n",
    "out_dim =  10# MNIST has 10 classes\n",
    "fold_len = int(data_train.shape[0]/k)\n",
    "lambdas = [0.001, 0.01, 0.1]\n",
    "best_lambda = lambdas[-1]\n",
    "best_acc = 0\n",
    "\n",
    "\n",
    "for l in lambdas:\n",
    "    acc = 0 # accuracy for current lambda\n",
    "    loss = 0 # loss for current lambda\n",
    "    for j in range(k):\n",
    "        model = MLP(in_dim, hidden_dim, out_dim)\n",
    "        fold_train_set = np.delete(data_train, np.s_[j*fold_len:(j+1)*fold_len], 0)\n",
    "        fold_train_target = np.delete(target_train, np.s_[j*fold_len:(j+1)*fold_len], 0)\n",
    "        val_set = data_train[j*fold_len:(j+1)*fold_len]\n",
    "        val_target = target_train[j*fold_len:(j+1)*fold_len]\n",
    "\n",
    "        for i in range(n_epochs):\n",
    "            # train the model on the data with the curent lambda\n",
    "            out = model.forward(fold_train_set.reshape(-1,in_dim))\n",
    "            loss = (1./60000)*np.sum(-np.eye(out_dim)[fold_train_target]*np.log(out))\n",
    "            accuracy = np.mean(np.argmax(out, axis=1) == fold_train_target)\n",
    "            # print(loss, accuracy)\n",
    "            grads = model.backward(loss, np.eye(out_dim)[fold_train_target])\n",
    "            model.step(lr, l, grads, 60000)\n",
    "\n",
    "        # test the model on the current validation data\n",
    "        y_val = model.forward(val_set.reshape(-1,in_dim))\n",
    "        fold_acc = np.mean(np.argmax(y_val, axis=1) == val_target)\n",
    "        fold_loss = 0.5*np.sum(np.square(y_val - np.eye(out_dim)[val_target]))\n",
    "        acc = (acc*(j) + fold_acc) / (j+1)\n",
    "        loss = (loss*(j) + fold_loss) / (j+1)\n",
    "\n",
    "\n",
    "\n",
    "\n",
    "    print(\"Lambda:\", l)\n",
    "    print(\"Loss: %.4f Accuracy: %.4f\" % (loss, acc))\n",
    "    print()\n",
    "    if acc > best_acc:\n",
    "        best_acc = acc\n",
    "        best_lambda = l\n",
    "\n",
    "print(\"Best lambda is\",best_lambda, \"with %.4f accuracy\" % best_acc)"
   ]
  },
  {
   "cell_type": "code",
   "execution_count": 177,
   "metadata": {},
   "outputs": [],
   "source": [
    "import matplotlib.pyplot as plt"
   ]
  },
  {
   "cell_type": "markdown",
   "metadata": {
    "deletable": false,
    "editable": false,
    "heading_collapsed": true,
    "hidden": true,
    "id": "6cDg4S27xD5Y",
    "run_control": {
     "frozen": true
    }
   },
   "source": [
    "### Part3:\n",
    "Train a final model using the best lambda on all the training data"
   ]
  },
  {
   "cell_type": "code",
   "execution_count": 20,
   "metadata": {
    "hidden": true,
    "id": "fE1mC1BkxMdt"
   },
   "outputs": [
    {
     "name": "stdout",
     "output_type": "stream",
     "text": [
      "0.05871666666666667\n",
      "0.27936666666666665\n",
      "0.40381666666666666\n",
      "0.4230333333333333\n",
      "0.42565\n",
      "0.43283333333333335\n",
      "0.43128333333333335\n",
      "0.3856\n",
      "0.357\n",
      "0.3552166666666667\n",
      "0.3339\n",
      "0.3096333333333333\n",
      "0.29596666666666666\n",
      "0.2768333333333333\n",
      "0.27636666666666665\n"
     ]
    },
    {
     "ename": "KeyboardInterrupt",
     "evalue": "",
     "output_type": "error",
     "traceback": [
      "\u001b[1;31m---------------------------------------------------------------------------\u001b[0m",
      "\u001b[1;31mKeyboardInterrupt\u001b[0m                         Traceback (most recent call last)",
      "\u001b[1;32m<ipython-input-20-d504e39a6fd8>\u001b[0m in \u001b[0;36m<module>\u001b[1;34m\u001b[0m\n\u001b[0;32m     14\u001b[0m         \u001b[0maccuracy\u001b[0m \u001b[1;33m=\u001b[0m \u001b[0mnp\u001b[0m\u001b[1;33m.\u001b[0m\u001b[0mmean\u001b[0m\u001b[1;33m(\u001b[0m\u001b[0mnp\u001b[0m\u001b[1;33m.\u001b[0m\u001b[0margmax\u001b[0m\u001b[1;33m(\u001b[0m\u001b[0mout\u001b[0m\u001b[1;33m,\u001b[0m \u001b[0maxis\u001b[0m\u001b[1;33m=\u001b[0m\u001b[1;36m1\u001b[0m\u001b[1;33m)\u001b[0m \u001b[1;33m==\u001b[0m \u001b[0mtarget_train\u001b[0m\u001b[1;33m)\u001b[0m\u001b[1;33m\u001b[0m\u001b[1;33m\u001b[0m\u001b[0m\n\u001b[0;32m     15\u001b[0m         \u001b[0mgrads\u001b[0m \u001b[1;33m=\u001b[0m \u001b[0mn_model\u001b[0m\u001b[1;33m.\u001b[0m\u001b[0mbackward\u001b[0m\u001b[1;33m(\u001b[0m\u001b[0mloss\u001b[0m\u001b[1;33m,\u001b[0m \u001b[0mnp\u001b[0m\u001b[1;33m.\u001b[0m\u001b[0meye\u001b[0m\u001b[1;33m(\u001b[0m\u001b[0mout_dim\u001b[0m\u001b[1;33m)\u001b[0m\u001b[1;33m[\u001b[0m\u001b[0mtarget_train\u001b[0m\u001b[1;33m]\u001b[0m\u001b[1;33m)\u001b[0m\u001b[1;33m\u001b[0m\u001b[1;33m\u001b[0m\u001b[0m\n\u001b[1;32m---> 16\u001b[1;33m         \u001b[0mn_model\u001b[0m\u001b[1;33m.\u001b[0m\u001b[0mstep\u001b[0m\u001b[1;33m(\u001b[0m\u001b[0mlr\u001b[0m\u001b[1;33m,\u001b[0m \u001b[0ml\u001b[0m\u001b[1;33m,\u001b[0m \u001b[0mgrads\u001b[0m\u001b[1;33m,\u001b[0m \u001b[1;36m60000\u001b[0m\u001b[1;33m)\u001b[0m\u001b[1;33m\u001b[0m\u001b[1;33m\u001b[0m\u001b[0m\n\u001b[0m\u001b[0;32m     17\u001b[0m         \u001b[0mlosses\u001b[0m\u001b[1;33m.\u001b[0m\u001b[0mappend\u001b[0m\u001b[1;33m(\u001b[0m\u001b[0mloss\u001b[0m\u001b[1;33m)\u001b[0m\u001b[1;33m\u001b[0m\u001b[1;33m\u001b[0m\u001b[0m\n\u001b[0;32m     18\u001b[0m         \u001b[0maccur\u001b[0m\u001b[1;33m.\u001b[0m\u001b[0mappend\u001b[0m\u001b[1;33m(\u001b[0m\u001b[0maccuracy\u001b[0m\u001b[1;33m)\u001b[0m\u001b[1;33m\u001b[0m\u001b[1;33m\u001b[0m\u001b[0m\n",
      "\u001b[1;32m<ipython-input-19-25ebc733f975>\u001b[0m in \u001b[0;36mstep\u001b[1;34m(self, lr, lam, grads, m)\u001b[0m\n\u001b[0;32m     51\u001b[0m         \u001b[1;31m# and the given learning rate with SGD\u001b[0m\u001b[1;33m\u001b[0m\u001b[1;33m\u001b[0m\u001b[1;33m\u001b[0m\u001b[0m\n\u001b[0;32m     52\u001b[0m         \u001b[1;31m# don't forget to use regularization\u001b[0m\u001b[1;33m\u001b[0m\u001b[1;33m\u001b[0m\u001b[1;33m\u001b[0m\u001b[0m\n\u001b[1;32m---> 53\u001b[1;33m         \u001b[0mself\u001b[0m\u001b[1;33m.\u001b[0m\u001b[0mw2\u001b[0m \u001b[1;33m=\u001b[0m \u001b[0mself\u001b[0m\u001b[1;33m.\u001b[0m\u001b[0mw2\u001b[0m \u001b[1;33m-\u001b[0m \u001b[0mlr\u001b[0m\u001b[1;33m*\u001b[0m\u001b[0mgrads\u001b[0m\u001b[1;33m[\u001b[0m\u001b[1;36m1\u001b[0m\u001b[1;33m]\u001b[0m\u001b[1;33m\u001b[0m\u001b[1;33m\u001b[0m\u001b[0m\n\u001b[0m\u001b[0;32m     54\u001b[0m         \u001b[0mself\u001b[0m\u001b[1;33m.\u001b[0m\u001b[0mw1\u001b[0m \u001b[1;33m=\u001b[0m \u001b[0mself\u001b[0m\u001b[1;33m.\u001b[0m\u001b[0mw1\u001b[0m \u001b[1;33m-\u001b[0m \u001b[0mlr\u001b[0m\u001b[1;33m*\u001b[0m\u001b[0mgrads\u001b[0m\u001b[1;33m[\u001b[0m\u001b[1;36m0\u001b[0m\u001b[1;33m]\u001b[0m\u001b[1;33m\u001b[0m\u001b[1;33m\u001b[0m\u001b[0m\n\u001b[0;32m     55\u001b[0m         \u001b[0mself\u001b[0m\u001b[1;33m.\u001b[0m\u001b[0mb2\u001b[0m \u001b[1;33m=\u001b[0m \u001b[0mself\u001b[0m\u001b[1;33m.\u001b[0m\u001b[0mb2\u001b[0m \u001b[1;33m-\u001b[0m \u001b[0mlr\u001b[0m\u001b[1;33m*\u001b[0m\u001b[0mgrads\u001b[0m\u001b[1;33m[\u001b[0m\u001b[1;36m3\u001b[0m\u001b[1;33m]\u001b[0m\u001b[1;33m\u001b[0m\u001b[1;33m\u001b[0m\u001b[0m\n",
      "\u001b[1;31mKeyboardInterrupt\u001b[0m: "
     ]
    }
   ],
   "source": [
    "n_epochs = 20 # number of epochs\n",
    "lr = 0.01# learning rate\n",
    "in_dim = 784# MNIST has 28*28 images\n",
    "hidden_dim = 100# number of hidden dimensions for the hidden layer\n",
    "out_dim =  10# MNIST has 10 classes\n",
    "n_model = MLP(in_dim, hidden_dim, out_dim)# new model\n",
    "l = 0.1\n",
    "losses = []\n",
    "accur = []\n",
    "for i in range(n_epochs):\n",
    "      #### training code here ####\n",
    "        out = n_model.forward(data_train.reshape(-1,in_dim))\n",
    "        loss = (1./60000)*np.sum(-np.eye(out_dim)[target_train]*np.log(out))\n",
    "        accuracy = np.mean(np.argmax(out, axis=1) == target_train)\n",
    "        grads = n_model.backward(loss, np.eye(out_dim)[target_train])\n",
    "        n_model.step(lr, l, grads, 60000)\n",
    "        losses.append(loss)\n",
    "        accur.append(accuracy)\n",
    "        print(accuracy)"
   ]
  },
  {
   "cell_type": "code",
   "execution_count": 299,
   "metadata": {},
   "outputs": [
    {
     "data": {
      "text/plain": [
       "0.73155"
      ]
     },
     "execution_count": 299,
     "metadata": {},
     "output_type": "execute_result"
    }
   ],
   "source": [
    "accuracy"
   ]
  },
  {
   "cell_type": "markdown",
   "metadata": {
    "deletable": false,
    "editable": false,
    "heading_collapsed": true,
    "hidden": true,
    "run_control": {
     "frozen": true
    }
   },
   "source": [
    "### Part4:"
   ]
  },
  {
   "cell_type": "markdown",
   "metadata": {
    "hidden": true,
    "id": "6X8hFKXQUeml"
   },
   "source": [
    "Plot the training loss value and accuracy (mean over all batches each epoch if you're using mini-batches) over epochs\n",
    "for the final model that is trained on all the training data"
   ]
  },
  {
   "cell_type": "code",
   "execution_count": 300,
   "metadata": {
    "hidden": true,
    "id": "_LpeQU225eGi"
   },
   "outputs": [
    {
     "data": {
      "text/plain": [
       "[<matplotlib.lines.Line2D at 0x2090b5e5370>]"
      ]
     },
     "execution_count": 300,
     "metadata": {},
     "output_type": "execute_result"
    },
    {
     "data": {
      "image/png": "[encoded data removed]",
      "text/plain": [
       "<Figure size 432x288 with 1 Axes>"
      ]
     },
     "metadata": {
      "needs_background": "light"
     },
     "output_type": "display_data"
    }
   ],
   "source": [
    "plt.plot(accur)"
   ]
  },
  {
   "cell_type": "code",
   "execution_count": 301,
   "metadata": {},
   "outputs": [
    {
     "data": {
      "text/plain": [
       "[<matplotlib.lines.Line2D at 0x2090b63d040>]"
      ]
     },
     "execution_count": 301,
     "metadata": {},
     "output_type": "execute_result"
    },
    {
     "data": {
      "image/png": "[encoded data removed]",
      "text/plain": [
       "<Figure size 432x288 with 1 Axes>"
      ]
     },
     "metadata": {
      "needs_background": "light"
     },
     "output_type": "display_data"
    }
   ],
   "source": [
    "plt.plot(losses)"
   ]
  },
  {
   "cell_type": "markdown",
   "metadata": {
    "hidden": true,
    "id": "WIaBwatyUqmC"
   },
   "source": [
    "Use your network on the test set and report the accuracy, you must get at least 70% accuracy on the test set."
   ]
  },
  {
   "cell_type": "code",
   "execution_count": 302,
   "metadata": {
    "hidden": true,
    "id": "NmQiBh4C5ULJ"
   },
   "outputs": [],
   "source": [
    "out = n_model.forward(data_test.reshape(-1,in_dim))\n",
    "accuracy = np.mean(np.argmax(out, axis=1) == target_test)"
   ]
  },
  {
   "cell_type": "code",
   "execution_count": 303,
   "metadata": {},
   "outputs": [
    {
     "data": {
      "text/plain": [
       "0.7423"
      ]
     },
     "execution_count": 303,
     "metadata": {},
     "output_type": "execute_result"
    }
   ],
   "source": [
    "accuracy"
   ]
  },
  {
   "cell_type": "markdown",
   "metadata": {
    "hidden": true,
    "id": "zyp8Wgx_nV-A"
   },
   "source": [
    "Below you can add code cells and improve on the network structure as you see fit (it still must be an MLP), train and test your network and explain why it works better.\n"
   ]
  }
 ],
 "metadata": {
  "colab": {
   "collapsed_sections": [],
   "name": "ML2021S-HW4-Practical.ipynb",
   "provenance": []
  },
  "kernelspec": {
   "display_name": "Python 3",
   "language": "python",
   "name": "python3"
  },
  "language_info": {
   "codemirror_mode": {
    "name": "ipython",
    "version": 3
   },
   "file_extension": ".py",
   "mimetype": "text/x-python",
   "name": "python",
   "nbconvert_exporter": "python",
   "pygments_lexer": "ipython3",
   "version": "3.8.5"
  },
  "toc": {
   "base_numbering": 1,
   "nav_menu": {},
   "number_sections": true,
   "sideBar": true,
   "skip_h1_title": false,
   "title_cell": "Table of Contents",
   "title_sidebar": "Contents",
   "toc_cell": false,
   "toc_position": {},
   "toc_section_display": true,
   "toc_window_display": false
  },
  "varInspector": {
   "cols": {
    "lenName": 16,
    "lenType": 16,
    "lenVar": 40
   },
   "kernels_config": {
    "python": {
     "delete_cmd_postfix": "",
     "delete_cmd_prefix": "del ",
     "library": "var_list.py",
     "varRefreshCmd": "print(var_dic_list())"
    },
    "r": {
     "delete_cmd_postfix": ") ",
     "delete_cmd_prefix": "rm(",
     "library": "var_list.r",
     "varRefreshCmd": "cat(var_dic_list()) "
    }
   },
   "types_to_exclude": [
    "module",
    "function",
    "builtin_function_or_method",
    "instance",
    "_Feature"
   ],
   "window_display": false
  }
 },
 "nbformat": 4,
 "nbformat_minor": 1
}
